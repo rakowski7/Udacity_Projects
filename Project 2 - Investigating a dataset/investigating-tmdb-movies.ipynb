{
 "cells": [
  {
   "cell_type": "markdown",
   "metadata": {},
   "source": [
    "\n",
    "# Project: Investigating TMDB Movies\n",
    "\n",
    "## Table of Contents\n",
    "<ul>\n",
    "<li><a href=\"#intro\">Introduction</a></li>\n",
    "<li><a href=\"#wrangling\">Data Wrangling</a></li>\n",
    "<li><a href=\"#eda\">Exploratory Data Analysis</a></li>\n",
    "<li><a href=\"#conclusions\">Conclusions</a></li>\n",
    "</ul>"
   ]
  },
  {
   "cell_type": "markdown",
   "metadata": {},
   "source": [
    "<a id='intro'></a>\n",
    "## Introduction\n",
    "\n",
    "> I chose to explore the TMDB dataset.  This dataset contains information on over 10,000 movies including director, cast, voter average, genre, budget and revenue (and more).  I'm curious to find out what features are correlated with a high voter rating?  Specifically, I'm curious if movies with popular cast members have higher movie ratings, do certain genres tend to have higher ratings.  Also, does run time have an impact on rating?  Lastly, I'd like to see the impact of the budget on the rating and revenue generated.\n"
   ]
  },
  {
   "cell_type": "code",
   "execution_count": 1,
   "metadata": {
    "collapsed": true
   },
   "outputs": [],
   "source": [
    "# Use this cell to set up import statements for all of the packages that you\n",
    "#   plan to use.\n",
    "\n",
    "# Remember to include a 'magic word' so that your visualizations are plotted\n",
    "#   inline with the notebook. See this page for more:\n",
    "#   http://ipython.readthedocs.io/en/stable/interactive/magics.html\n",
    "import pandas as pd\n",
    "import numpy as np\n",
    "import matplotlib.pyplot as plt\n",
    "\n",
    "%matplotlib inline\n"
   ]
  },
  {
   "cell_type": "markdown",
   "metadata": {},
   "source": [
    "<a id='wrangling'></a>\n",
    "## Data Wrangling\n",
    "\n",
    "### General Properties"
   ]
  },
  {
   "cell_type": "code",
   "execution_count": 2,
   "metadata": {
    "collapsed": true
   },
   "outputs": [
    {
     "data": {
      "text/html": [
       "<div>\n",
       "<style scoped>\n",
       "    .dataframe tbody tr th:only-of-type {\n",
       "        vertical-align: middle;\n",
       "    }\n",
       "\n",
       "    .dataframe tbody tr th {\n",
       "        vertical-align: top;\n",
       "    }\n",
       "\n",
       "    .dataframe thead th {\n",
       "        text-align: right;\n",
       "    }\n",
       "</style>\n",
       "<table border=\"1\" class=\"dataframe\">\n",
       "  <thead>\n",
       "    <tr style=\"text-align: right;\">\n",
       "      <th></th>\n",
       "      <th>id</th>\n",
       "      <th>imdb_id</th>\n",
       "      <th>popularity</th>\n",
       "      <th>budget</th>\n",
       "      <th>revenue</th>\n",
       "      <th>original_title</th>\n",
       "      <th>cast</th>\n",
       "      <th>homepage</th>\n",
       "      <th>director</th>\n",
       "      <th>tagline</th>\n",
       "      <th>...</th>\n",
       "      <th>overview</th>\n",
       "      <th>runtime</th>\n",
       "      <th>genres</th>\n",
       "      <th>production_companies</th>\n",
       "      <th>release_date</th>\n",
       "      <th>vote_count</th>\n",
       "      <th>vote_average</th>\n",
       "      <th>release_year</th>\n",
       "      <th>budget_adj</th>\n",
       "      <th>revenue_adj</th>\n",
       "    </tr>\n",
       "  </thead>\n",
       "  <tbody>\n",
       "    <tr>\n",
       "      <th>0</th>\n",
       "      <td>135397</td>\n",
       "      <td>tt0369610</td>\n",
       "      <td>32.985763</td>\n",
       "      <td>150000000</td>\n",
       "      <td>1513528810</td>\n",
       "      <td>Jurassic World</td>\n",
       "      <td>Chris Pratt|Bryce Dallas Howard|Irrfan Khan|Vi...</td>\n",
       "      <td>http://www.jurassicworld.com/</td>\n",
       "      <td>Colin Trevorrow</td>\n",
       "      <td>The park is open.</td>\n",
       "      <td>...</td>\n",
       "      <td>Twenty-two years after the events of Jurassic ...</td>\n",
       "      <td>124</td>\n",
       "      <td>Action|Adventure|Science Fiction|Thriller</td>\n",
       "      <td>Universal Studios|Amblin Entertainment|Legenda...</td>\n",
       "      <td>6/9/15</td>\n",
       "      <td>5562</td>\n",
       "      <td>6.5</td>\n",
       "      <td>2015</td>\n",
       "      <td>1.379999e+08</td>\n",
       "      <td>1.392446e+09</td>\n",
       "    </tr>\n",
       "    <tr>\n",
       "      <th>1</th>\n",
       "      <td>76341</td>\n",
       "      <td>tt1392190</td>\n",
       "      <td>28.419936</td>\n",
       "      <td>150000000</td>\n",
       "      <td>378436354</td>\n",
       "      <td>Mad Max: Fury Road</td>\n",
       "      <td>Tom Hardy|Charlize Theron|Hugh Keays-Byrne|Nic...</td>\n",
       "      <td>http://www.madmaxmovie.com/</td>\n",
       "      <td>George Miller</td>\n",
       "      <td>What a Lovely Day.</td>\n",
       "      <td>...</td>\n",
       "      <td>An apocalyptic story set in the furthest reach...</td>\n",
       "      <td>120</td>\n",
       "      <td>Action|Adventure|Science Fiction|Thriller</td>\n",
       "      <td>Village Roadshow Pictures|Kennedy Miller Produ...</td>\n",
       "      <td>5/13/15</td>\n",
       "      <td>6185</td>\n",
       "      <td>7.1</td>\n",
       "      <td>2015</td>\n",
       "      <td>1.379999e+08</td>\n",
       "      <td>3.481613e+08</td>\n",
       "    </tr>\n",
       "  </tbody>\n",
       "</table>\n",
       "<p>2 rows × 21 columns</p>\n",
       "</div>"
      ],
      "text/plain": [
       "       id    imdb_id  popularity     budget     revenue      original_title  \\\n",
       "0  135397  tt0369610   32.985763  150000000  1513528810      Jurassic World   \n",
       "1   76341  tt1392190   28.419936  150000000   378436354  Mad Max: Fury Road   \n",
       "\n",
       "                                                cast  \\\n",
       "0  Chris Pratt|Bryce Dallas Howard|Irrfan Khan|Vi...   \n",
       "1  Tom Hardy|Charlize Theron|Hugh Keays-Byrne|Nic...   \n",
       "\n",
       "                        homepage         director             tagline  \\\n",
       "0  http://www.jurassicworld.com/  Colin Trevorrow   The park is open.   \n",
       "1    http://www.madmaxmovie.com/    George Miller  What a Lovely Day.   \n",
       "\n",
       "       ...                                                overview runtime  \\\n",
       "0      ...       Twenty-two years after the events of Jurassic ...     124   \n",
       "1      ...       An apocalyptic story set in the furthest reach...     120   \n",
       "\n",
       "                                      genres  \\\n",
       "0  Action|Adventure|Science Fiction|Thriller   \n",
       "1  Action|Adventure|Science Fiction|Thriller   \n",
       "\n",
       "                                production_companies release_date vote_count  \\\n",
       "0  Universal Studios|Amblin Entertainment|Legenda...       6/9/15       5562   \n",
       "1  Village Roadshow Pictures|Kennedy Miller Produ...      5/13/15       6185   \n",
       "\n",
       "   vote_average  release_year    budget_adj   revenue_adj  \n",
       "0           6.5          2015  1.379999e+08  1.392446e+09  \n",
       "1           7.1          2015  1.379999e+08  3.481613e+08  \n",
       "\n",
       "[2 rows x 21 columns]"
      ]
     },
     "execution_count": 2,
     "metadata": {},
     "output_type": "execute_result"
    }
   ],
   "source": [
    "# Load your data and print out a few lines. Perform operations to inspect data\n",
    "#   types and look for instances of missing or possibly errant data.\n",
    "\n",
    "df = pd.read_csv('Datasets/tmdb-movies.csv')\n",
    "\n",
    "df.head(2)\n"
   ]
  },
  {
   "cell_type": "markdown",
   "metadata": {},
   "source": [
    "# Next I want to see an overview of the dataset - datatypes, columns and what columns are missing values"
   ]
  },
  {
   "cell_type": "code",
   "execution_count": 3,
   "metadata": {},
   "outputs": [
    {
     "name": "stdout",
     "output_type": "stream",
     "text": [
      "<class 'pandas.core.frame.DataFrame'>\n",
      "RangeIndex: 10866 entries, 0 to 10865\n",
      "Data columns (total 21 columns):\n",
      "id                      10866 non-null int64\n",
      "imdb_id                 10856 non-null object\n",
      "popularity              10866 non-null float64\n",
      "budget                  10866 non-null int64\n",
      "revenue                 10866 non-null int64\n",
      "original_title          10866 non-null object\n",
      "cast                    10790 non-null object\n",
      "homepage                2936 non-null object\n",
      "director                10822 non-null object\n",
      "tagline                 8042 non-null object\n",
      "keywords                9373 non-null object\n",
      "overview                10862 non-null object\n",
      "runtime                 10866 non-null int64\n",
      "genres                  10843 non-null object\n",
      "production_companies    9836 non-null object\n",
      "release_date            10866 non-null object\n",
      "vote_count              10866 non-null int64\n",
      "vote_average            10866 non-null float64\n",
      "release_year            10866 non-null int64\n",
      "budget_adj              10866 non-null float64\n",
      "revenue_adj             10866 non-null float64\n",
      "dtypes: float64(4), int64(6), object(11)\n",
      "memory usage: 1.7+ MB\n"
     ]
    }
   ],
   "source": [
    "df.info()"
   ]
  },
  {
   "cell_type": "markdown",
   "metadata": {},
   "source": [
    "# Next I want to see some basic stats - mean, std and percentiles for columns that are numbers"
   ]
  },
  {
   "cell_type": "code",
   "execution_count": 4,
   "metadata": {},
   "outputs": [
    {
     "data": {
      "text/html": [
       "<div>\n",
       "<style scoped>\n",
       "    .dataframe tbody tr th:only-of-type {\n",
       "        vertical-align: middle;\n",
       "    }\n",
       "\n",
       "    .dataframe tbody tr th {\n",
       "        vertical-align: top;\n",
       "    }\n",
       "\n",
       "    .dataframe thead th {\n",
       "        text-align: right;\n",
       "    }\n",
       "</style>\n",
       "<table border=\"1\" class=\"dataframe\">\n",
       "  <thead>\n",
       "    <tr style=\"text-align: right;\">\n",
       "      <th></th>\n",
       "      <th>id</th>\n",
       "      <th>popularity</th>\n",
       "      <th>budget</th>\n",
       "      <th>revenue</th>\n",
       "      <th>runtime</th>\n",
       "      <th>vote_count</th>\n",
       "      <th>vote_average</th>\n",
       "      <th>release_year</th>\n",
       "      <th>budget_adj</th>\n",
       "      <th>revenue_adj</th>\n",
       "    </tr>\n",
       "  </thead>\n",
       "  <tbody>\n",
       "    <tr>\n",
       "      <th>count</th>\n",
       "      <td>10866.000000</td>\n",
       "      <td>10866.000000</td>\n",
       "      <td>1.086600e+04</td>\n",
       "      <td>1.086600e+04</td>\n",
       "      <td>10866.000000</td>\n",
       "      <td>10866.000000</td>\n",
       "      <td>10866.000000</td>\n",
       "      <td>10866.000000</td>\n",
       "      <td>1.086600e+04</td>\n",
       "      <td>1.086600e+04</td>\n",
       "    </tr>\n",
       "    <tr>\n",
       "      <th>mean</th>\n",
       "      <td>66064.177434</td>\n",
       "      <td>0.646441</td>\n",
       "      <td>1.462570e+07</td>\n",
       "      <td>3.982332e+07</td>\n",
       "      <td>102.070863</td>\n",
       "      <td>217.389748</td>\n",
       "      <td>5.974922</td>\n",
       "      <td>2001.322658</td>\n",
       "      <td>1.755104e+07</td>\n",
       "      <td>5.136436e+07</td>\n",
       "    </tr>\n",
       "    <tr>\n",
       "      <th>std</th>\n",
       "      <td>92130.136561</td>\n",
       "      <td>1.000185</td>\n",
       "      <td>3.091321e+07</td>\n",
       "      <td>1.170035e+08</td>\n",
       "      <td>31.381405</td>\n",
       "      <td>575.619058</td>\n",
       "      <td>0.935142</td>\n",
       "      <td>12.812941</td>\n",
       "      <td>3.430616e+07</td>\n",
       "      <td>1.446325e+08</td>\n",
       "    </tr>\n",
       "    <tr>\n",
       "      <th>min</th>\n",
       "      <td>5.000000</td>\n",
       "      <td>0.000065</td>\n",
       "      <td>0.000000e+00</td>\n",
       "      <td>0.000000e+00</td>\n",
       "      <td>0.000000</td>\n",
       "      <td>10.000000</td>\n",
       "      <td>1.500000</td>\n",
       "      <td>1960.000000</td>\n",
       "      <td>0.000000e+00</td>\n",
       "      <td>0.000000e+00</td>\n",
       "    </tr>\n",
       "    <tr>\n",
       "      <th>25%</th>\n",
       "      <td>10596.250000</td>\n",
       "      <td>0.207583</td>\n",
       "      <td>0.000000e+00</td>\n",
       "      <td>0.000000e+00</td>\n",
       "      <td>90.000000</td>\n",
       "      <td>17.000000</td>\n",
       "      <td>5.400000</td>\n",
       "      <td>1995.000000</td>\n",
       "      <td>0.000000e+00</td>\n",
       "      <td>0.000000e+00</td>\n",
       "    </tr>\n",
       "    <tr>\n",
       "      <th>50%</th>\n",
       "      <td>20669.000000</td>\n",
       "      <td>0.383856</td>\n",
       "      <td>0.000000e+00</td>\n",
       "      <td>0.000000e+00</td>\n",
       "      <td>99.000000</td>\n",
       "      <td>38.000000</td>\n",
       "      <td>6.000000</td>\n",
       "      <td>2006.000000</td>\n",
       "      <td>0.000000e+00</td>\n",
       "      <td>0.000000e+00</td>\n",
       "    </tr>\n",
       "    <tr>\n",
       "      <th>75%</th>\n",
       "      <td>75610.000000</td>\n",
       "      <td>0.713817</td>\n",
       "      <td>1.500000e+07</td>\n",
       "      <td>2.400000e+07</td>\n",
       "      <td>111.000000</td>\n",
       "      <td>145.750000</td>\n",
       "      <td>6.600000</td>\n",
       "      <td>2011.000000</td>\n",
       "      <td>2.085325e+07</td>\n",
       "      <td>3.369710e+07</td>\n",
       "    </tr>\n",
       "    <tr>\n",
       "      <th>max</th>\n",
       "      <td>417859.000000</td>\n",
       "      <td>32.985763</td>\n",
       "      <td>4.250000e+08</td>\n",
       "      <td>2.781506e+09</td>\n",
       "      <td>900.000000</td>\n",
       "      <td>9767.000000</td>\n",
       "      <td>9.200000</td>\n",
       "      <td>2015.000000</td>\n",
       "      <td>4.250000e+08</td>\n",
       "      <td>2.827124e+09</td>\n",
       "    </tr>\n",
       "  </tbody>\n",
       "</table>\n",
       "</div>"
      ],
      "text/plain": [
       "                  id    popularity        budget       revenue       runtime  \\\n",
       "count   10866.000000  10866.000000  1.086600e+04  1.086600e+04  10866.000000   \n",
       "mean    66064.177434      0.646441  1.462570e+07  3.982332e+07    102.070863   \n",
       "std     92130.136561      1.000185  3.091321e+07  1.170035e+08     31.381405   \n",
       "min         5.000000      0.000065  0.000000e+00  0.000000e+00      0.000000   \n",
       "25%     10596.250000      0.207583  0.000000e+00  0.000000e+00     90.000000   \n",
       "50%     20669.000000      0.383856  0.000000e+00  0.000000e+00     99.000000   \n",
       "75%     75610.000000      0.713817  1.500000e+07  2.400000e+07    111.000000   \n",
       "max    417859.000000     32.985763  4.250000e+08  2.781506e+09    900.000000   \n",
       "\n",
       "         vote_count  vote_average  release_year    budget_adj   revenue_adj  \n",
       "count  10866.000000  10866.000000  10866.000000  1.086600e+04  1.086600e+04  \n",
       "mean     217.389748      5.974922   2001.322658  1.755104e+07  5.136436e+07  \n",
       "std      575.619058      0.935142     12.812941  3.430616e+07  1.446325e+08  \n",
       "min       10.000000      1.500000   1960.000000  0.000000e+00  0.000000e+00  \n",
       "25%       17.000000      5.400000   1995.000000  0.000000e+00  0.000000e+00  \n",
       "50%       38.000000      6.000000   2006.000000  0.000000e+00  0.000000e+00  \n",
       "75%      145.750000      6.600000   2011.000000  2.085325e+07  3.369710e+07  \n",
       "max     9767.000000      9.200000   2015.000000  4.250000e+08  2.827124e+09  "
      ]
     },
     "execution_count": 4,
     "metadata": {},
     "output_type": "execute_result"
    }
   ],
   "source": [
    "df.describe()"
   ]
  },
  {
   "cell_type": "markdown",
   "metadata": {},
   "source": [
    "# Check for duplicates"
   ]
  },
  {
   "cell_type": "code",
   "execution_count": 5,
   "metadata": {},
   "outputs": [
    {
     "data": {
      "text/plain": [
       "1"
      ]
     },
     "execution_count": 5,
     "metadata": {},
     "output_type": "execute_result"
    }
   ],
   "source": [
    "sum(df.duplicated())\n"
   ]
  },
  {
   "cell_type": "markdown",
   "metadata": {},
   "source": [
    "# Remove the duplicate row"
   ]
  },
  {
   "cell_type": "code",
   "execution_count": 6,
   "metadata": {},
   "outputs": [
    {
     "data": {
      "text/plain": [
       "0"
      ]
     },
     "execution_count": 6,
     "metadata": {},
     "output_type": "execute_result"
    }
   ],
   "source": [
    "df.drop_duplicates(inplace=True)\n",
    "sum(df.duplicated())\n"
   ]
  },
  {
   "cell_type": "markdown",
   "metadata": {},
   "source": [
    "# Split apart cast, genres and production companies to have one value per row.  First create a function called splitter.  Note, that \"|\" is a regex character, thus won't be detected by the str methods unless encapsulated by brackets or a slash.  This was learned the hard way..."
   ]
  },
  {
   "cell_type": "code",
   "execution_count": 7,
   "metadata": {},
   "outputs": [],
   "source": [
    "def Splitter(df, column, number, character):\n",
    "    \n",
    "    #Not all casts contain 3 or more members.  Thus filter out casts to split by checking the count of \"|\"\n",
    "    df_rows_to_split = df[df[column].str.count(\"[\" + character + \"]\") > (number - 1)]\n",
    "    df_rows_to_split[column] = df_rows_to_split[column].apply(lambda x: x.split(character)[number])\n",
    "    \n",
    "    df = df.append(df_rows_to_split)\n",
    "    df = df.reset_index()\n",
    "    del df['index']\n",
    "    return df"
   ]
  },
  {
   "cell_type": "markdown",
   "metadata": {},
   "source": [
    "# Now use the function to iterate through the columns that need splitting.  Limit to a max of 3 fields, but also check for fields that contain just one split \"|\" as well to make sure all actors are accounted for (this is done with the second for statement)"
   ]
  },
  {
   "cell_type": "code",
   "execution_count": 11,
   "metadata": {},
   "outputs": [
    {
     "name": "stderr",
     "output_type": "stream",
     "text": [
      "c:\\users\\mateusz.rakowski\\appdata\\local\\continuum\\anaconda3\\lib\\site-packages\\ipykernel_launcher.py:5: SettingWithCopyWarning: \n",
      "A value is trying to be set on a copy of a slice from a DataFrame.\n",
      "Try using .loc[row_indexer,col_indexer] = value instead\n",
      "\n",
      "See the caveats in the documentation: http://pandas.pydata.org/pandas-docs/stable/indexing.html#indexing-view-versus-copy\n",
      "  \"\"\"\n"
     ]
    }
   ],
   "source": [
    "df_updated = df.copy()\n",
    "columns = ['cast', 'production_companies', 'genres']\n",
    "for column in columns:\n",
    "    for i in (0, 1, 2):\n",
    "        df_updated = Splitter(df_updated, column, i, \"|\")"
   ]
  },
  {
   "cell_type": "markdown",
   "metadata": {},
   "source": [
    "# Spot check some of the last lines to see the appended rows are indeed split apart without line separators"
   ]
  },
  {
   "cell_type": "code",
   "execution_count": 12,
   "metadata": {},
   "outputs": [
    {
     "data": {
      "text/html": [
       "<div>\n",
       "<style scoped>\n",
       "    .dataframe tbody tr th:only-of-type {\n",
       "        vertical-align: middle;\n",
       "    }\n",
       "\n",
       "    .dataframe tbody tr th {\n",
       "        vertical-align: top;\n",
       "    }\n",
       "\n",
       "    .dataframe thead th {\n",
       "        text-align: right;\n",
       "    }\n",
       "</style>\n",
       "<table border=\"1\" class=\"dataframe\">\n",
       "  <thead>\n",
       "    <tr style=\"text-align: right;\">\n",
       "      <th></th>\n",
       "      <th>cast</th>\n",
       "      <th>production_companies</th>\n",
       "      <th>genres</th>\n",
       "    </tr>\n",
       "  </thead>\n",
       "  <tbody>\n",
       "    <tr>\n",
       "      <th>402342</th>\n",
       "      <td>Telly Savalas</td>\n",
       "      <td>Danjaq</td>\n",
       "      <td>Thriller</td>\n",
       "    </tr>\n",
       "    <tr>\n",
       "      <th>402343</th>\n",
       "      <td>Katharine Ross</td>\n",
       "      <td>Newman-Foreman Productions</td>\n",
       "      <td>Western</td>\n",
       "    </tr>\n",
       "    <tr>\n",
       "      <th>402344</th>\n",
       "      <td>Jean Seberg</td>\n",
       "      <td>Alan Jay Lerner Productions</td>\n",
       "      <td>Comedy</td>\n",
       "    </tr>\n",
       "    <tr>\n",
       "      <th>402345</th>\n",
       "      <td>Glenn Gilger</td>\n",
       "      <td>Bill Melendez Productions</td>\n",
       "      <td>Family</td>\n",
       "    </tr>\n",
       "    <tr>\n",
       "      <th>402346</th>\n",
       "      <td>Christopher Reeve</td>\n",
       "      <td>Film Export A.G.</td>\n",
       "      <td>Action</td>\n",
       "    </tr>\n",
       "    <tr>\n",
       "      <th>402347</th>\n",
       "      <td>Herbert Lom</td>\n",
       "      <td>Pimlico Films</td>\n",
       "      <td>Thriller</td>\n",
       "    </tr>\n",
       "    <tr>\n",
       "      <th>402348</th>\n",
       "      <td>Anthony Daniels</td>\n",
       "      <td>Winters Hollywood Entertainment Holdings Corpo...</td>\n",
       "      <td>Family</td>\n",
       "    </tr>\n",
       "    <tr>\n",
       "      <th>402349</th>\n",
       "      <td>Burgess Meredith</td>\n",
       "      <td>Shelburne Associates</td>\n",
       "      <td>Thriller</td>\n",
       "    </tr>\n",
       "    <tr>\n",
       "      <th>402350</th>\n",
       "      <td>Bruce Dern</td>\n",
       "      <td>Jayne Productions Inc</td>\n",
       "      <td>War</td>\n",
       "    </tr>\n",
       "    <tr>\n",
       "      <th>402351</th>\n",
       "      <td>Mike McEwen</td>\n",
       "      <td>Dugong Films</td>\n",
       "      <td>Mystery</td>\n",
       "    </tr>\n",
       "    <tr>\n",
       "      <th>402352</th>\n",
       "      <td>Sarah Miles</td>\n",
       "      <td>Carlo Ponti Production</td>\n",
       "      <td>Thriller</td>\n",
       "    </tr>\n",
       "    <tr>\n",
       "      <th>402353</th>\n",
       "      <td>Cesar Romero</td>\n",
       "      <td>William Dozier Productions</td>\n",
       "      <td>Comedy</td>\n",
       "    </tr>\n",
       "    <tr>\n",
       "      <th>402354</th>\n",
       "      <td>Richard Crenna</td>\n",
       "      <td>Robert Wise Productions</td>\n",
       "      <td>Drama</td>\n",
       "    </tr>\n",
       "    <tr>\n",
       "      <th>402355</th>\n",
       "      <td>John Randolph</td>\n",
       "      <td>John Frankenheimer Productions Inc.</td>\n",
       "      <td>Thriller</td>\n",
       "    </tr>\n",
       "    <tr>\n",
       "      <th>402356</th>\n",
       "      <td>Yves Montand</td>\n",
       "      <td>Douglas &amp; Lewis Productions</td>\n",
       "      <td>Drama</td>\n",
       "    </tr>\n",
       "  </tbody>\n",
       "</table>\n",
       "</div>"
      ],
      "text/plain": [
       "                     cast                               production_companies  \\\n",
       "402342      Telly Savalas                                             Danjaq   \n",
       "402343     Katharine Ross                         Newman-Foreman Productions   \n",
       "402344        Jean Seberg                        Alan Jay Lerner Productions   \n",
       "402345       Glenn Gilger                          Bill Melendez Productions   \n",
       "402346  Christopher Reeve                                   Film Export A.G.   \n",
       "402347        Herbert Lom                                      Pimlico Films   \n",
       "402348    Anthony Daniels  Winters Hollywood Entertainment Holdings Corpo...   \n",
       "402349   Burgess Meredith                               Shelburne Associates   \n",
       "402350         Bruce Dern                              Jayne Productions Inc   \n",
       "402351        Mike McEwen                                       Dugong Films   \n",
       "402352        Sarah Miles                             Carlo Ponti Production   \n",
       "402353       Cesar Romero                         William Dozier Productions   \n",
       "402354     Richard Crenna                            Robert Wise Productions   \n",
       "402355      John Randolph                John Frankenheimer Productions Inc.   \n",
       "402356       Yves Montand                        Douglas & Lewis Productions   \n",
       "\n",
       "          genres  \n",
       "402342  Thriller  \n",
       "402343   Western  \n",
       "402344    Comedy  \n",
       "402345    Family  \n",
       "402346    Action  \n",
       "402347  Thriller  \n",
       "402348    Family  \n",
       "402349  Thriller  \n",
       "402350       War  \n",
       "402351   Mystery  \n",
       "402352  Thriller  \n",
       "402353    Comedy  \n",
       "402354     Drama  \n",
       "402355  Thriller  \n",
       "402356     Drama  "
      ]
     },
     "execution_count": 12,
     "metadata": {},
     "output_type": "execute_result"
    }
   ],
   "source": [
    "df_updated[columns].tail(15)"
   ]
  },
  {
   "cell_type": "markdown",
   "metadata": {},
   "source": [
    "# Remove cells that contain the splitter/separator \"|\""
   ]
  },
  {
   "cell_type": "code",
   "execution_count": 13,
   "metadata": {},
   "outputs": [
    {
     "name": "stdout",
     "output_type": "stream",
     "text": [
      "Before: 402357\n",
      "After:  180866\n"
     ]
    }
   ],
   "source": [
    "print(\"Before: \" + str(len(df_updated)))\n",
    "for column in columns:\n",
    "    df_updated.drop(df_updated[df_updated[column].str.count(\"[|]\") > 0].index, inplace=True)\n",
    "\n",
    "print(\"After:  \" + str(len(df_updated)))"
   ]
  },
  {
   "cell_type": "markdown",
   "metadata": {},
   "source": [
    "# Check for duplications after appending new rows"
   ]
  },
  {
   "cell_type": "code",
   "execution_count": 14,
   "metadata": {},
   "outputs": [
    {
     "data": {
      "text/plain": [
       "37898"
      ]
     },
     "execution_count": 14,
     "metadata": {},
     "output_type": "execute_result"
    }
   ],
   "source": [
    "sum(df_updated.duplicated())"
   ]
  },
  {
   "cell_type": "markdown",
   "metadata": {},
   "source": [
    "# Drop the duplicates"
   ]
  },
  {
   "cell_type": "code",
   "execution_count": 17,
   "metadata": {},
   "outputs": [
    {
     "name": "stdout",
     "output_type": "stream",
     "text": [
      "0\n",
      "142968\n"
     ]
    }
   ],
   "source": [
    "df_updated.drop_duplicates(inplace=True)\n",
    "print(sum(df_updated.duplicated()))\n",
    "print(len(df_updated))"
   ]
  },
  {
   "cell_type": "markdown",
   "metadata": {},
   "source": [
    "### Note, over half the movies in the database don't have budget or revenue values (see below).  I don't plan to fill these values with a mean or median as it's a very large amount of data and making such an assumption for so many values can lead to misleading analysis.  Instead, when I will look at budget and revenue numbers later, I'll omit the null rows.  When I'm looking at non budget and revenue numbers, then I'll use all rows to maximize the data used."
   ]
  },
  {
   "cell_type": "code",
   "execution_count": 18,
   "metadata": {},
   "outputs": [
    {
     "name": "stdout",
     "output_type": "stream",
     "text": [
      "0.5242521859180856\n",
      "0.5242521859180856\n",
      "0.5537045559134837\n",
      "0.5537045559134837\n",
      "         budget_adj        budget       revenue   revenue_adj\n",
      "count  5.169000e+03  5.169000e+03  5.169000e+03  5.169000e+03\n",
      "mean   3.688907e+07  3.073958e+07  8.029101e+07  1.021953e+08\n",
      "std    4.196096e+07  3.890441e+07  1.594865e+08  1.959194e+08\n",
      "min    9.210911e-01  1.000000e+00  0.000000e+00  0.000000e+00\n",
      "25%    8.102293e+06  6.000000e+06  0.000000e+00  0.000000e+00\n",
      "50%    2.271505e+07  1.700000e+07  2.100156e+07  2.863167e+07\n",
      "75%    5.008384e+07  4.000000e+07  8.945676e+07  1.134196e+08\n",
      "max    4.250000e+08  4.250000e+08  2.781506e+09  2.827124e+09\n"
     ]
    },
    {
     "data": {
      "text/html": [
       "<div>\n",
       "<style scoped>\n",
       "    .dataframe tbody tr th:only-of-type {\n",
       "        vertical-align: middle;\n",
       "    }\n",
       "\n",
       "    .dataframe tbody tr th {\n",
       "        vertical-align: top;\n",
       "    }\n",
       "\n",
       "    .dataframe thead th {\n",
       "        text-align: right;\n",
       "    }\n",
       "</style>\n",
       "<table border=\"1\" class=\"dataframe\">\n",
       "  <thead>\n",
       "    <tr style=\"text-align: right;\">\n",
       "      <th></th>\n",
       "      <th>budget_adj</th>\n",
       "      <th>budget</th>\n",
       "      <th>revenue</th>\n",
       "      <th>revenue_adj</th>\n",
       "    </tr>\n",
       "  </thead>\n",
       "  <tbody>\n",
       "    <tr>\n",
       "      <th>count</th>\n",
       "      <td>4.849000e+03</td>\n",
       "      <td>4.849000e+03</td>\n",
       "      <td>4.849000e+03</td>\n",
       "      <td>4.849000e+03</td>\n",
       "    </tr>\n",
       "    <tr>\n",
       "      <th>mean</th>\n",
       "      <td>3.516208e+07</td>\n",
       "      <td>2.956961e+07</td>\n",
       "      <td>8.923886e+07</td>\n",
       "      <td>1.151009e+08</td>\n",
       "    </tr>\n",
       "    <tr>\n",
       "      <th>std</th>\n",
       "      <td>4.376117e+07</td>\n",
       "      <td>4.051761e+07</td>\n",
       "      <td>1.620801e+08</td>\n",
       "      <td>1.988557e+08</td>\n",
       "    </tr>\n",
       "    <tr>\n",
       "      <th>min</th>\n",
       "      <td>0.000000e+00</td>\n",
       "      <td>0.000000e+00</td>\n",
       "      <td>2.000000e+00</td>\n",
       "      <td>2.370705e+00</td>\n",
       "    </tr>\n",
       "    <tr>\n",
       "      <th>25%</th>\n",
       "      <td>2.329409e+06</td>\n",
       "      <td>1.700000e+06</td>\n",
       "      <td>7.732325e+06</td>\n",
       "      <td>1.046585e+07</td>\n",
       "    </tr>\n",
       "    <tr>\n",
       "      <th>50%</th>\n",
       "      <td>2.032801e+07</td>\n",
       "      <td>1.500000e+07</td>\n",
       "      <td>3.185308e+07</td>\n",
       "      <td>4.395666e+07</td>\n",
       "    </tr>\n",
       "    <tr>\n",
       "      <th>75%</th>\n",
       "      <td>4.973516e+07</td>\n",
       "      <td>4.000000e+07</td>\n",
       "      <td>9.996575e+07</td>\n",
       "      <td>1.316482e+08</td>\n",
       "    </tr>\n",
       "    <tr>\n",
       "      <th>max</th>\n",
       "      <td>4.250000e+08</td>\n",
       "      <td>4.250000e+08</td>\n",
       "      <td>2.781506e+09</td>\n",
       "      <td>2.827124e+09</td>\n",
       "    </tr>\n",
       "  </tbody>\n",
       "</table>\n",
       "</div>"
      ],
      "text/plain": [
       "         budget_adj        budget       revenue   revenue_adj\n",
       "count  4.849000e+03  4.849000e+03  4.849000e+03  4.849000e+03\n",
       "mean   3.516208e+07  2.956961e+07  8.923886e+07  1.151009e+08\n",
       "std    4.376117e+07  4.051761e+07  1.620801e+08  1.988557e+08\n",
       "min    0.000000e+00  0.000000e+00  2.000000e+00  2.370705e+00\n",
       "25%    2.329409e+06  1.700000e+06  7.732325e+06  1.046585e+07\n",
       "50%    2.032801e+07  1.500000e+07  3.185308e+07  4.395666e+07\n",
       "75%    4.973516e+07  4.000000e+07  9.996575e+07  1.316482e+08\n",
       "max    4.250000e+08  4.250000e+08  2.781506e+09  2.827124e+09"
      ]
     },
     "execution_count": 18,
     "metadata": {},
     "output_type": "execute_result"
    }
   ],
   "source": [
    "print(len(df[df['budget']==0])/len(df))\n",
    "print(len(df[df['budget_adj']==0])/len(df))\n",
    "print(len(df[df['revenue']==0])/len(df))\n",
    "print(len(df[df['revenue_adj']==0])/len(df))\n",
    "\n",
    "print(df[df['budget']>0][['budget_adj', 'budget', 'revenue', 'revenue_adj']].describe())\n",
    "df[df['revenue']>0][['budget_adj', 'budget', 'revenue', 'revenue_adj']].describe()"
   ]
  },
  {
   "cell_type": "markdown",
   "metadata": {},
   "source": [
    "# Create bins for the vote average, runtime, budget, budget_adj, revenue and revenue_adj.  Also, since half the data is missing money related data, create money bins based on the percentiles from the data that does have money values (since when I plan to analyze money specific data, then I'll omit the null rows).  Lastly, for rows that do have revenue, create a column to see if the movie made money, ie, revenue was greater than the budget"
   ]
  },
  {
   "cell_type": "code",
   "execution_count": 19,
   "metadata": {},
   "outputs": [
    {
     "name": "stderr",
     "output_type": "stream",
     "text": [
      "c:\\users\\mateusz.rakowski\\appdata\\local\\continuum\\anaconda3\\lib\\site-packages\\ipykernel_launcher.py:33: SettingWithCopyWarning: \n",
      "A value is trying to be set on a copy of a slice from a DataFrame.\n",
      "Try using .loc[row_indexer,col_indexer] = value instead\n",
      "\n",
      "See the caveats in the documentation: http://pandas.pydata.org/pandas-docs/stable/indexing.html#indexing-view-versus-copy\n",
      "c:\\users\\mateusz.rakowski\\appdata\\local\\continuum\\anaconda3\\lib\\site-packages\\ipykernel_launcher.py:34: SettingWithCopyWarning: \n",
      "A value is trying to be set on a copy of a slice from a DataFrame.\n",
      "Try using .loc[row_indexer,col_indexer] = value instead\n",
      "\n",
      "See the caveats in the documentation: http://pandas.pydata.org/pandas-docs/stable/indexing.html#indexing-view-versus-copy\n",
      "c:\\users\\mateusz.rakowski\\appdata\\local\\continuum\\anaconda3\\lib\\site-packages\\ipykernel_launcher.py:35: SettingWithCopyWarning: \n",
      "A value is trying to be set on a copy of a slice from a DataFrame.\n",
      "Try using .loc[row_indexer,col_indexer] = value instead\n",
      "\n",
      "See the caveats in the documentation: http://pandas.pydata.org/pandas-docs/stable/indexing.html#indexing-view-versus-copy\n"
     ]
    },
    {
     "data": {
      "text/html": [
       "<div>\n",
       "<style scoped>\n",
       "    .dataframe tbody tr th:only-of-type {\n",
       "        vertical-align: middle;\n",
       "    }\n",
       "\n",
       "    .dataframe tbody tr th {\n",
       "        vertical-align: top;\n",
       "    }\n",
       "\n",
       "    .dataframe thead th {\n",
       "        text-align: right;\n",
       "    }\n",
       "</style>\n",
       "<table border=\"1\" class=\"dataframe\">\n",
       "  <thead>\n",
       "    <tr style=\"text-align: right;\">\n",
       "      <th></th>\n",
       "      <th>id</th>\n",
       "      <th>imdb_id</th>\n",
       "      <th>popularity</th>\n",
       "      <th>budget</th>\n",
       "      <th>revenue</th>\n",
       "      <th>original_title</th>\n",
       "      <th>cast</th>\n",
       "      <th>homepage</th>\n",
       "      <th>director</th>\n",
       "      <th>tagline</th>\n",
       "      <th>...</th>\n",
       "      <th>vote_average</th>\n",
       "      <th>release_year</th>\n",
       "      <th>budget_adj</th>\n",
       "      <th>revenue_adj</th>\n",
       "      <th>Rating</th>\n",
       "      <th>Movie_Length</th>\n",
       "      <th>budget_adj_bucket</th>\n",
       "      <th>budget_bucket</th>\n",
       "      <th>revenue_adj_bucket</th>\n",
       "      <th>Rev_Performance</th>\n",
       "    </tr>\n",
       "  </thead>\n",
       "  <tbody>\n",
       "    <tr>\n",
       "      <th>371</th>\n",
       "      <td>345637</td>\n",
       "      <td>tt4661600</td>\n",
       "      <td>0.422901</td>\n",
       "      <td>0</td>\n",
       "      <td>0</td>\n",
       "      <td>Sanjay's Super Team</td>\n",
       "      <td>NaN</td>\n",
       "      <td>NaN</td>\n",
       "      <td>Sanjay Patel</td>\n",
       "      <td>NaN</td>\n",
       "      <td>...</td>\n",
       "      <td>6.9</td>\n",
       "      <td>2015</td>\n",
       "      <td>0.0</td>\n",
       "      <td>0.0</td>\n",
       "      <td>Excellent</td>\n",
       "      <td>Short</td>\n",
       "      <td>NaN</td>\n",
       "      <td>NaN</td>\n",
       "      <td>NaN</td>\n",
       "      <td>Unknown</td>\n",
       "    </tr>\n",
       "    <tr>\n",
       "      <th>465</th>\n",
       "      <td>321109</td>\n",
       "      <td>tt4393514</td>\n",
       "      <td>0.201696</td>\n",
       "      <td>0</td>\n",
       "      <td>0</td>\n",
       "      <td>Bitter Lake</td>\n",
       "      <td>NaN</td>\n",
       "      <td>NaN</td>\n",
       "      <td>Adam Curtis</td>\n",
       "      <td>NaN</td>\n",
       "      <td>...</td>\n",
       "      <td>7.8</td>\n",
       "      <td>2015</td>\n",
       "      <td>0.0</td>\n",
       "      <td>0.0</td>\n",
       "      <td>Excellent</td>\n",
       "      <td>Very_Long</td>\n",
       "      <td>NaN</td>\n",
       "      <td>NaN</td>\n",
       "      <td>NaN</td>\n",
       "      <td>Unknown</td>\n",
       "    </tr>\n",
       "    <tr>\n",
       "      <th>494</th>\n",
       "      <td>361671</td>\n",
       "      <td>tt5227516</td>\n",
       "      <td>0.129455</td>\n",
       "      <td>0</td>\n",
       "      <td>0</td>\n",
       "      <td>Ellis</td>\n",
       "      <td>Robert De Niro</td>\n",
       "      <td>http://jr-art.net</td>\n",
       "      <td>JR</td>\n",
       "      <td>NaN</td>\n",
       "      <td>...</td>\n",
       "      <td>7.2</td>\n",
       "      <td>2015</td>\n",
       "      <td>0.0</td>\n",
       "      <td>0.0</td>\n",
       "      <td>Excellent</td>\n",
       "      <td>Short</td>\n",
       "      <td>NaN</td>\n",
       "      <td>NaN</td>\n",
       "      <td>NaN</td>\n",
       "      <td>Unknown</td>\n",
       "    </tr>\n",
       "    <tr>\n",
       "      <th>500</th>\n",
       "      <td>355178</td>\n",
       "      <td>tt4909348</td>\n",
       "      <td>0.157172</td>\n",
       "      <td>0</td>\n",
       "      <td>0</td>\n",
       "      <td>Amy Schumer: Live at the Apollo</td>\n",
       "      <td>Amy Schumer</td>\n",
       "      <td>http://www.hbo.com/comedy/amy-schumer-live-fro...</td>\n",
       "      <td>Chris Rock</td>\n",
       "      <td>She's a lady</td>\n",
       "      <td>...</td>\n",
       "      <td>7.5</td>\n",
       "      <td>2015</td>\n",
       "      <td>0.0</td>\n",
       "      <td>0.0</td>\n",
       "      <td>Excellent</td>\n",
       "      <td>Short</td>\n",
       "      <td>NaN</td>\n",
       "      <td>NaN</td>\n",
       "      <td>NaN</td>\n",
       "      <td>Unknown</td>\n",
       "    </tr>\n",
       "    <tr>\n",
       "      <th>532</th>\n",
       "      <td>320996</td>\n",
       "      <td>tt4073952</td>\n",
       "      <td>0.126594</td>\n",
       "      <td>0</td>\n",
       "      <td>0</td>\n",
       "      <td>Iliza Shlesinger: Freezing Hot</td>\n",
       "      <td>Iliza Shlesinger</td>\n",
       "      <td>http://www.iliza.com/freezing-hot.html</td>\n",
       "      <td>NaN</td>\n",
       "      <td>NaN</td>\n",
       "      <td>...</td>\n",
       "      <td>6.6</td>\n",
       "      <td>2015</td>\n",
       "      <td>0.0</td>\n",
       "      <td>0.0</td>\n",
       "      <td>Good</td>\n",
       "      <td>Short</td>\n",
       "      <td>NaN</td>\n",
       "      <td>NaN</td>\n",
       "      <td>NaN</td>\n",
       "      <td>Unknown</td>\n",
       "    </tr>\n",
       "  </tbody>\n",
       "</table>\n",
       "<p>5 rows × 27 columns</p>\n",
       "</div>"
      ],
      "text/plain": [
       "         id    imdb_id  popularity  budget  revenue  \\\n",
       "371  345637  tt4661600    0.422901       0        0   \n",
       "465  321109  tt4393514    0.201696       0        0   \n",
       "494  361671  tt5227516    0.129455       0        0   \n",
       "500  355178  tt4909348    0.157172       0        0   \n",
       "532  320996  tt4073952    0.126594       0        0   \n",
       "\n",
       "                      original_title              cast  \\\n",
       "371              Sanjay's Super Team               NaN   \n",
       "465                      Bitter Lake               NaN   \n",
       "494                            Ellis    Robert De Niro   \n",
       "500  Amy Schumer: Live at the Apollo       Amy Schumer   \n",
       "532   Iliza Shlesinger: Freezing Hot  Iliza Shlesinger   \n",
       "\n",
       "                                              homepage      director  \\\n",
       "371                                                NaN  Sanjay Patel   \n",
       "465                                                NaN   Adam Curtis   \n",
       "494                                  http://jr-art.net            JR   \n",
       "500  http://www.hbo.com/comedy/amy-schumer-live-fro...    Chris Rock   \n",
       "532             http://www.iliza.com/freezing-hot.html           NaN   \n",
       "\n",
       "          tagline       ...        vote_average release_year  budget_adj  \\\n",
       "371           NaN       ...                 6.9         2015         0.0   \n",
       "465           NaN       ...                 7.8         2015         0.0   \n",
       "494           NaN       ...                 7.2         2015         0.0   \n",
       "500  She's a lady       ...                 7.5         2015         0.0   \n",
       "532           NaN       ...                 6.6         2015         0.0   \n",
       "\n",
       "    revenue_adj     Rating Movie_Length  budget_adj_bucket  budget_bucket  \\\n",
       "371         0.0  Excellent        Short                NaN            NaN   \n",
       "465         0.0  Excellent    Very_Long                NaN            NaN   \n",
       "494         0.0  Excellent        Short                NaN            NaN   \n",
       "500         0.0  Excellent        Short                NaN            NaN   \n",
       "532         0.0       Good        Short                NaN            NaN   \n",
       "\n",
       "     revenue_adj_bucket  Rev_Performance  \n",
       "371                 NaN          Unknown  \n",
       "465                 NaN          Unknown  \n",
       "494                 NaN          Unknown  \n",
       "500                 NaN          Unknown  \n",
       "532                 NaN          Unknown  \n",
       "\n",
       "[5 rows x 27 columns]"
      ]
     },
     "execution_count": 19,
     "metadata": {},
     "output_type": "execute_result"
    }
   ],
   "source": [
    "# Vote Average Rating\n",
    "bin_edges = [1.5, 5.4, 6, 6.6, 9.2]\n",
    "bin_names = ['Poor', 'Average', 'Good', 'Excellent']\n",
    "df_updated['Rating'] = pd.cut(df_updated['vote_average'], bin_edges, labels=bin_names)\n",
    "\n",
    "# Movie Length Grouping\n",
    "bin_edges = [0, 90, 99, 111, 900]\n",
    "bin_names = ['Short', 'Average', 'Long', 'Very_Long']\n",
    "df_updated['Movie_Length'] = pd.cut(df_updated['runtime'], bin_edges, labels=bin_names)\n",
    "\n",
    "# Budget Adj Grouping\n",
    "bin_edges = [0, 1, 8.102293e+06, 2.271505e+07, 5.008384e+07, 4.250000e+08]\n",
    "bin_names = ['Missing', 'Cheap', 'Average', 'Expensive', 'Crazy_Expensive']\n",
    "df_updated['budget_adj_bucket'] = pd.cut(df_updated['budget_adj'], bin_edges, labels=bin_names)\n",
    "\n",
    "# Budget Grouping\n",
    "bin_edges = [0, 1.01, 6.000000e+06, 1.700000e+07, 4.000000e+07, 4.250000e+08]\n",
    "bin_names = ['Missing', 'Cheap', 'Average', 'Expensive', 'Crazy_Expensive']\n",
    "df_updated['budget_bucket'] = pd.cut(df_updated['budget'], bin_edges, labels=bin_names)\n",
    "\n",
    "# Revenue Adj Grouping\n",
    "bin_edges = [0, 2.370705, 1.046585e+07, 4.395666e+07, 1.316482e+08, 2.827124e+09]\n",
    "bin_names = ['Missing', 'Poor', 'Average', 'Good', 'Great']\n",
    "df_updated['revenue_adj_bucket'] = pd.cut(df_updated['revenue_adj'], bin_edges, labels=bin_names)\n",
    "\n",
    "# Revenue Grouping\n",
    "bin_edges = [0, 2, 7.732325e+06, 3.185308e+07, 9.996575e+07, 2.781506e+09]\n",
    "bin_names = ['Missing', 'Poor', 'Average', 'Good', 'Great']\n",
    "df_updated['revenue_adj_bucket'] = pd.cut(df_updated['revenue_adj'], bin_edges, labels=bin_names)\n",
    "\n",
    "# Made Money\n",
    "df_updated['Rev_Performance'] = \"Unknown\"\n",
    "df_updated[(df_updated['revenue']>0) & (df_updated['budget']>df_updated['revenue'])]['Rev_Performance'] = \"Negative\"\n",
    "df_updated[(df_updated['revenue']>0) & (df_updated['budget']==df_updated['revenue'])]['Rev_Performance'] = \"Neutral\"\n",
    "df_updated[(df_updated['revenue']>0) & (df_updated['budget']<df_updated['revenue'])]['Rev_Performance'] = \"Positive\"\n",
    "\n",
    "df_updated.head()"
   ]
  },
  {
   "cell_type": "markdown",
   "metadata": {},
   "source": [
    "# Create a new column that notates the number of times that an actor has appeared in the movies in this database.  I'll use this as an indicator of how popular an actor is.  To do this, first I'll create a separate dataframe called Actors that simply has the actor name, and the number of times the actor appears in the database."
   ]
  },
  {
   "cell_type": "code",
   "execution_count": 20,
   "metadata": {},
   "outputs": [
    {
     "data": {
      "text/plain": [
       "pandas.core.frame.DataFrame"
      ]
     },
     "execution_count": 20,
     "metadata": {},
     "output_type": "execute_result"
    }
   ],
   "source": [
    "Actors=df_updated.groupby('cast').filter(lambda x: x['cast'].count()>0)[['cast']].groupby('cast')[['cast']].agg('count').sort_values(by='cast', ascending=False)\n",
    "type(Actors)"
   ]
  },
  {
   "cell_type": "code",
   "execution_count": 21,
   "metadata": {},
   "outputs": [
    {
     "data": {
      "text/html": [
       "<div>\n",
       "<style scoped>\n",
       "    .dataframe tbody tr th:only-of-type {\n",
       "        vertical-align: middle;\n",
       "    }\n",
       "\n",
       "    .dataframe tbody tr th {\n",
       "        vertical-align: top;\n",
       "    }\n",
       "\n",
       "    .dataframe thead th {\n",
       "        text-align: right;\n",
       "    }\n",
       "</style>\n",
       "<table border=\"1\" class=\"dataframe\">\n",
       "  <thead>\n",
       "    <tr style=\"text-align: right;\">\n",
       "      <th></th>\n",
       "      <th>cast</th>\n",
       "    </tr>\n",
       "    <tr>\n",
       "      <th>cast</th>\n",
       "      <th></th>\n",
       "    </tr>\n",
       "  </thead>\n",
       "  <tbody>\n",
       "    <tr>\n",
       "      <th>Nicolas Cage</th>\n",
       "      <td>370</td>\n",
       "    </tr>\n",
       "    <tr>\n",
       "      <th>Bruce Willis</th>\n",
       "      <td>353</td>\n",
       "    </tr>\n",
       "    <tr>\n",
       "      <th>Robert De Niro</th>\n",
       "      <td>348</td>\n",
       "    </tr>\n",
       "    <tr>\n",
       "      <th>Samuel L. Jackson</th>\n",
       "      <td>291</td>\n",
       "    </tr>\n",
       "    <tr>\n",
       "      <th>Johnny Depp</th>\n",
       "      <td>280</td>\n",
       "    </tr>\n",
       "  </tbody>\n",
       "</table>\n",
       "</div>"
      ],
      "text/plain": [
       "                   cast\n",
       "cast                   \n",
       "Nicolas Cage        370\n",
       "Bruce Willis        353\n",
       "Robert De Niro      348\n",
       "Samuel L. Jackson   291\n",
       "Johnny Depp         280"
      ]
     },
     "execution_count": 21,
     "metadata": {},
     "output_type": "execute_result"
    }
   ],
   "source": [
    "Actors.head()"
   ]
  },
  {
   "cell_type": "markdown",
   "metadata": {},
   "source": [
    "### Now iterate through each actor in the Actors dataframe (which is aggregated by actor, so each actor name shows up only once, thus it's faster to iterate through.  Note, this will still take ~3-10 min to run) and everytime df_updated['cast']==actor, update the new \"Actor_Occurrences\" column to be equal to the occurrences calculated in the Actors dataframe.  Thus the end result will be the number of times the cast member listed in each row has been seen."
   ]
  },
  {
   "cell_type": "code",
   "execution_count": 22,
   "metadata": {},
   "outputs": [
    {
     "data": {
      "text/html": [
       "<div>\n",
       "<style scoped>\n",
       "    .dataframe tbody tr th:only-of-type {\n",
       "        vertical-align: middle;\n",
       "    }\n",
       "\n",
       "    .dataframe tbody tr th {\n",
       "        vertical-align: top;\n",
       "    }\n",
       "\n",
       "    .dataframe thead th {\n",
       "        text-align: right;\n",
       "    }\n",
       "</style>\n",
       "<table border=\"1\" class=\"dataframe\">\n",
       "  <thead>\n",
       "    <tr style=\"text-align: right;\">\n",
       "      <th></th>\n",
       "      <th>id</th>\n",
       "      <th>imdb_id</th>\n",
       "      <th>popularity</th>\n",
       "      <th>budget</th>\n",
       "      <th>revenue</th>\n",
       "      <th>original_title</th>\n",
       "      <th>cast</th>\n",
       "      <th>homepage</th>\n",
       "      <th>director</th>\n",
       "      <th>tagline</th>\n",
       "      <th>...</th>\n",
       "      <th>release_year</th>\n",
       "      <th>budget_adj</th>\n",
       "      <th>revenue_adj</th>\n",
       "      <th>Rating</th>\n",
       "      <th>Movie_Length</th>\n",
       "      <th>budget_adj_bucket</th>\n",
       "      <th>budget_bucket</th>\n",
       "      <th>revenue_adj_bucket</th>\n",
       "      <th>Rev_Performance</th>\n",
       "      <th>Actor_Occurrences</th>\n",
       "    </tr>\n",
       "  </thead>\n",
       "  <tbody>\n",
       "    <tr>\n",
       "      <th>0</th>\n",
       "      <td>345637</td>\n",
       "      <td>tt4661600</td>\n",
       "      <td>0.422901</td>\n",
       "      <td>0</td>\n",
       "      <td>0</td>\n",
       "      <td>Sanjay's Super Team</td>\n",
       "      <td>NaN</td>\n",
       "      <td>NaN</td>\n",
       "      <td>Sanjay Patel</td>\n",
       "      <td>NaN</td>\n",
       "      <td>...</td>\n",
       "      <td>2015</td>\n",
       "      <td>0.0</td>\n",
       "      <td>0.0</td>\n",
       "      <td>Excellent</td>\n",
       "      <td>Short</td>\n",
       "      <td>NaN</td>\n",
       "      <td>NaN</td>\n",
       "      <td>NaN</td>\n",
       "      <td>Unknown</td>\n",
       "      <td>0</td>\n",
       "    </tr>\n",
       "    <tr>\n",
       "      <th>1</th>\n",
       "      <td>321109</td>\n",
       "      <td>tt4393514</td>\n",
       "      <td>0.201696</td>\n",
       "      <td>0</td>\n",
       "      <td>0</td>\n",
       "      <td>Bitter Lake</td>\n",
       "      <td>NaN</td>\n",
       "      <td>NaN</td>\n",
       "      <td>Adam Curtis</td>\n",
       "      <td>NaN</td>\n",
       "      <td>...</td>\n",
       "      <td>2015</td>\n",
       "      <td>0.0</td>\n",
       "      <td>0.0</td>\n",
       "      <td>Excellent</td>\n",
       "      <td>Very_Long</td>\n",
       "      <td>NaN</td>\n",
       "      <td>NaN</td>\n",
       "      <td>NaN</td>\n",
       "      <td>Unknown</td>\n",
       "      <td>0</td>\n",
       "    </tr>\n",
       "    <tr>\n",
       "      <th>2</th>\n",
       "      <td>361671</td>\n",
       "      <td>tt5227516</td>\n",
       "      <td>0.129455</td>\n",
       "      <td>0</td>\n",
       "      <td>0</td>\n",
       "      <td>Ellis</td>\n",
       "      <td>Robert De Niro</td>\n",
       "      <td>http://jr-art.net</td>\n",
       "      <td>JR</td>\n",
       "      <td>NaN</td>\n",
       "      <td>...</td>\n",
       "      <td>2015</td>\n",
       "      <td>0.0</td>\n",
       "      <td>0.0</td>\n",
       "      <td>Excellent</td>\n",
       "      <td>Short</td>\n",
       "      <td>NaN</td>\n",
       "      <td>NaN</td>\n",
       "      <td>NaN</td>\n",
       "      <td>Unknown</td>\n",
       "      <td>348</td>\n",
       "    </tr>\n",
       "    <tr>\n",
       "      <th>3</th>\n",
       "      <td>355178</td>\n",
       "      <td>tt4909348</td>\n",
       "      <td>0.157172</td>\n",
       "      <td>0</td>\n",
       "      <td>0</td>\n",
       "      <td>Amy Schumer: Live at the Apollo</td>\n",
       "      <td>Amy Schumer</td>\n",
       "      <td>http://www.hbo.com/comedy/amy-schumer-live-fro...</td>\n",
       "      <td>Chris Rock</td>\n",
       "      <td>She's a lady</td>\n",
       "      <td>...</td>\n",
       "      <td>2015</td>\n",
       "      <td>0.0</td>\n",
       "      <td>0.0</td>\n",
       "      <td>Excellent</td>\n",
       "      <td>Short</td>\n",
       "      <td>NaN</td>\n",
       "      <td>NaN</td>\n",
       "      <td>NaN</td>\n",
       "      <td>Unknown</td>\n",
       "      <td>5</td>\n",
       "    </tr>\n",
       "    <tr>\n",
       "      <th>4</th>\n",
       "      <td>320996</td>\n",
       "      <td>tt4073952</td>\n",
       "      <td>0.126594</td>\n",
       "      <td>0</td>\n",
       "      <td>0</td>\n",
       "      <td>Iliza Shlesinger: Freezing Hot</td>\n",
       "      <td>Iliza Shlesinger</td>\n",
       "      <td>http://www.iliza.com/freezing-hot.html</td>\n",
       "      <td>NaN</td>\n",
       "      <td>NaN</td>\n",
       "      <td>...</td>\n",
       "      <td>2015</td>\n",
       "      <td>0.0</td>\n",
       "      <td>0.0</td>\n",
       "      <td>Good</td>\n",
       "      <td>Short</td>\n",
       "      <td>NaN</td>\n",
       "      <td>NaN</td>\n",
       "      <td>NaN</td>\n",
       "      <td>Unknown</td>\n",
       "      <td>1</td>\n",
       "    </tr>\n",
       "  </tbody>\n",
       "</table>\n",
       "<p>5 rows × 28 columns</p>\n",
       "</div>"
      ],
      "text/plain": [
       "       id    imdb_id  popularity  budget  revenue  \\\n",
       "0  345637  tt4661600    0.422901       0        0   \n",
       "1  321109  tt4393514    0.201696       0        0   \n",
       "2  361671  tt5227516    0.129455       0        0   \n",
       "3  355178  tt4909348    0.157172       0        0   \n",
       "4  320996  tt4073952    0.126594       0        0   \n",
       "\n",
       "                    original_title              cast  \\\n",
       "0              Sanjay's Super Team               NaN   \n",
       "1                      Bitter Lake               NaN   \n",
       "2                            Ellis    Robert De Niro   \n",
       "3  Amy Schumer: Live at the Apollo       Amy Schumer   \n",
       "4   Iliza Shlesinger: Freezing Hot  Iliza Shlesinger   \n",
       "\n",
       "                                            homepage      director  \\\n",
       "0                                                NaN  Sanjay Patel   \n",
       "1                                                NaN   Adam Curtis   \n",
       "2                                  http://jr-art.net            JR   \n",
       "3  http://www.hbo.com/comedy/amy-schumer-live-fro...    Chris Rock   \n",
       "4             http://www.iliza.com/freezing-hot.html           NaN   \n",
       "\n",
       "        tagline        ...         release_year budget_adj  revenue_adj  \\\n",
       "0           NaN        ...                 2015        0.0          0.0   \n",
       "1           NaN        ...                 2015        0.0          0.0   \n",
       "2           NaN        ...                 2015        0.0          0.0   \n",
       "3  She's a lady        ...                 2015        0.0          0.0   \n",
       "4           NaN        ...                 2015        0.0          0.0   \n",
       "\n",
       "      Rating Movie_Length budget_adj_bucket  budget_bucket  \\\n",
       "0  Excellent        Short               NaN            NaN   \n",
       "1  Excellent    Very_Long               NaN            NaN   \n",
       "2  Excellent        Short               NaN            NaN   \n",
       "3  Excellent        Short               NaN            NaN   \n",
       "4       Good        Short               NaN            NaN   \n",
       "\n",
       "   revenue_adj_bucket  Rev_Performance  Actor_Occurrences  \n",
       "0                 NaN          Unknown                  0  \n",
       "1                 NaN          Unknown                  0  \n",
       "2                 NaN          Unknown                348  \n",
       "3                 NaN          Unknown                  5  \n",
       "4                 NaN          Unknown                  1  \n",
       "\n",
       "[5 rows x 28 columns]"
      ]
     },
     "execution_count": 22,
     "metadata": {},
     "output_type": "execute_result"
    }
   ],
   "source": [
    "df_updated['Actor_Occurrences'] = 0\n",
    "df_updated.reset_index(inplace=True)\n",
    "del df_updated['index']\n",
    "\n",
    "for actor in Actors.index:\n",
    "    df_updated.loc[df_updated['cast']==actor, 'Actor_Occurrences']=Actors['cast'][actor]\n",
    "    \n",
    "df_updated.head()"
   ]
  },
  {
   "cell_type": "markdown",
   "metadata": {},
   "source": [
    "# Create Bins for the occurrences"
   ]
  },
  {
   "cell_type": "markdown",
   "metadata": {},
   "source": [
    "## First check what the actor percentiles are"
   ]
  },
  {
   "cell_type": "code",
   "execution_count": 24,
   "metadata": {},
   "outputs": [
    {
     "data": {
      "text/plain": [
       "count    142968.000000\n",
       "mean         61.145123\n",
       "std          66.431619\n",
       "min           0.000000\n",
       "25%           9.000000\n",
       "50%          35.000000\n",
       "75%          92.000000\n",
       "max         370.000000\n",
       "Name: Actor_Occurrences, dtype: float64"
      ]
     },
     "execution_count": 24,
     "metadata": {},
     "output_type": "execute_result"
    }
   ],
   "source": [
    "df_updated['Actor_Occurrences'].describe()"
   ]
  },
  {
   "cell_type": "markdown",
   "metadata": {},
   "source": [
    "## Now create bins with the percentile edges from above, label the new column as \"Actor_Popularity\""
   ]
  },
  {
   "cell_type": "code",
   "execution_count": 25,
   "metadata": {},
   "outputs": [],
   "source": [
    "# Populatrity\n",
    "bin_edges = [0, 9, 35, 92, 370]\n",
    "bin_names = ['Unpopular', 'Average', 'Popular', 'Star']\n",
    "df_updated['Actor_Popularity'] = pd.cut(df_updated['Actor_Occurrences'], bin_edges, labels=bin_names)"
   ]
  },
  {
   "cell_type": "markdown",
   "metadata": {},
   "source": [
    "# Save the new dataframe, as these processes took some time and it would be convenient to skip these steps if it needs to be re run again."
   ]
  },
  {
   "cell_type": "code",
   "execution_count": 26,
   "metadata": {},
   "outputs": [
    {
     "name": "stdout",
     "output_type": "stream",
     "text": [
      "<class 'pandas.core.frame.DataFrame'>\n",
      "RangeIndex: 142968 entries, 0 to 142967\n",
      "Data columns (total 29 columns):\n",
      "id                      142968 non-null int64\n",
      "imdb_id                 142912 non-null object\n",
      "popularity              142968 non-null float64\n",
      "budget                  142968 non-null int64\n",
      "revenue                 142968 non-null int64\n",
      "original_title          142968 non-null object\n",
      "cast                    142832 non-null object\n",
      "homepage                41219 non-null object\n",
      "director                142744 non-null object\n",
      "tagline                 114507 non-null object\n",
      "keywords                127817 non-null object\n",
      "overview                142950 non-null object\n",
      "runtime                 142968 non-null int64\n",
      "genres                  142904 non-null object\n",
      "production_companies    137141 non-null object\n",
      "release_date            142968 non-null object\n",
      "vote_count              142968 non-null int64\n",
      "vote_average            142968 non-null float64\n",
      "release_year            142968 non-null int64\n",
      "budget_adj              142968 non-null float64\n",
      "revenue_adj             142968 non-null float64\n",
      "Rating                  142956 non-null category\n",
      "Movie_Length            142738 non-null category\n",
      "budget_adj_bucket       80310 non-null category\n",
      "budget_bucket           80310 non-null category\n",
      "revenue_adj_bucket      75091 non-null category\n",
      "Rev_Performance         142968 non-null object\n",
      "Actor_Occurrences       142968 non-null int64\n",
      "Actor_Popularity        142832 non-null category\n",
      "dtypes: category(6), float64(4), int64(7), object(12)\n",
      "memory usage: 25.9+ MB\n"
     ]
    }
   ],
   "source": [
    "#df_updated[columns].head()\n",
    "df_updated.to_csv('Datasets/data_updated.csv', index=False)\n",
    "df_updated.info()\n"
   ]
  },
  {
   "cell_type": "markdown",
   "metadata": {},
   "source": [
    "# Optional step is next to reload data"
   ]
  },
  {
   "cell_type": "code",
   "execution_count": 27,
   "metadata": {
    "collapsed": true
   },
   "outputs": [
    {
     "data": {
      "text/html": [
       "<div>\n",
       "<style scoped>\n",
       "    .dataframe tbody tr th:only-of-type {\n",
       "        vertical-align: middle;\n",
       "    }\n",
       "\n",
       "    .dataframe tbody tr th {\n",
       "        vertical-align: top;\n",
       "    }\n",
       "\n",
       "    .dataframe thead th {\n",
       "        text-align: right;\n",
       "    }\n",
       "</style>\n",
       "<table border=\"1\" class=\"dataframe\">\n",
       "  <thead>\n",
       "    <tr style=\"text-align: right;\">\n",
       "      <th></th>\n",
       "      <th>id</th>\n",
       "      <th>imdb_id</th>\n",
       "      <th>popularity</th>\n",
       "      <th>budget</th>\n",
       "      <th>revenue</th>\n",
       "      <th>original_title</th>\n",
       "      <th>cast</th>\n",
       "      <th>homepage</th>\n",
       "      <th>director</th>\n",
       "      <th>tagline</th>\n",
       "      <th>...</th>\n",
       "      <th>budget_adj</th>\n",
       "      <th>revenue_adj</th>\n",
       "      <th>Rating</th>\n",
       "      <th>Movie_Length</th>\n",
       "      <th>budget_adj_bucket</th>\n",
       "      <th>budget_bucket</th>\n",
       "      <th>revenue_adj_bucket</th>\n",
       "      <th>Rev_Performance</th>\n",
       "      <th>Actor_Occurrences</th>\n",
       "      <th>Actor_Popularity</th>\n",
       "    </tr>\n",
       "  </thead>\n",
       "  <tbody>\n",
       "    <tr>\n",
       "      <th>0</th>\n",
       "      <td>345637</td>\n",
       "      <td>tt4661600</td>\n",
       "      <td>0.422901</td>\n",
       "      <td>0</td>\n",
       "      <td>0</td>\n",
       "      <td>Sanjay's Super Team</td>\n",
       "      <td>NaN</td>\n",
       "      <td>NaN</td>\n",
       "      <td>Sanjay Patel</td>\n",
       "      <td>NaN</td>\n",
       "      <td>...</td>\n",
       "      <td>0.0</td>\n",
       "      <td>0.0</td>\n",
       "      <td>Excellent</td>\n",
       "      <td>Short</td>\n",
       "      <td>NaN</td>\n",
       "      <td>NaN</td>\n",
       "      <td>NaN</td>\n",
       "      <td>Unknown</td>\n",
       "      <td>0</td>\n",
       "      <td>NaN</td>\n",
       "    </tr>\n",
       "    <tr>\n",
       "      <th>1</th>\n",
       "      <td>321109</td>\n",
       "      <td>tt4393514</td>\n",
       "      <td>0.201696</td>\n",
       "      <td>0</td>\n",
       "      <td>0</td>\n",
       "      <td>Bitter Lake</td>\n",
       "      <td>NaN</td>\n",
       "      <td>NaN</td>\n",
       "      <td>Adam Curtis</td>\n",
       "      <td>NaN</td>\n",
       "      <td>...</td>\n",
       "      <td>0.0</td>\n",
       "      <td>0.0</td>\n",
       "      <td>Excellent</td>\n",
       "      <td>Very_Long</td>\n",
       "      <td>NaN</td>\n",
       "      <td>NaN</td>\n",
       "      <td>NaN</td>\n",
       "      <td>Unknown</td>\n",
       "      <td>0</td>\n",
       "      <td>NaN</td>\n",
       "    </tr>\n",
       "    <tr>\n",
       "      <th>2</th>\n",
       "      <td>361671</td>\n",
       "      <td>tt5227516</td>\n",
       "      <td>0.129455</td>\n",
       "      <td>0</td>\n",
       "      <td>0</td>\n",
       "      <td>Ellis</td>\n",
       "      <td>Robert De Niro</td>\n",
       "      <td>http://jr-art.net</td>\n",
       "      <td>JR</td>\n",
       "      <td>NaN</td>\n",
       "      <td>...</td>\n",
       "      <td>0.0</td>\n",
       "      <td>0.0</td>\n",
       "      <td>Excellent</td>\n",
       "      <td>Short</td>\n",
       "      <td>NaN</td>\n",
       "      <td>NaN</td>\n",
       "      <td>NaN</td>\n",
       "      <td>Unknown</td>\n",
       "      <td>348</td>\n",
       "      <td>Star</td>\n",
       "    </tr>\n",
       "    <tr>\n",
       "      <th>3</th>\n",
       "      <td>355178</td>\n",
       "      <td>tt4909348</td>\n",
       "      <td>0.157172</td>\n",
       "      <td>0</td>\n",
       "      <td>0</td>\n",
       "      <td>Amy Schumer: Live at the Apollo</td>\n",
       "      <td>Amy Schumer</td>\n",
       "      <td>http://www.hbo.com/comedy/amy-schumer-live-fro...</td>\n",
       "      <td>Chris Rock</td>\n",
       "      <td>She's a lady</td>\n",
       "      <td>...</td>\n",
       "      <td>0.0</td>\n",
       "      <td>0.0</td>\n",
       "      <td>Excellent</td>\n",
       "      <td>Short</td>\n",
       "      <td>NaN</td>\n",
       "      <td>NaN</td>\n",
       "      <td>NaN</td>\n",
       "      <td>Unknown</td>\n",
       "      <td>5</td>\n",
       "      <td>Unpopular</td>\n",
       "    </tr>\n",
       "    <tr>\n",
       "      <th>4</th>\n",
       "      <td>320996</td>\n",
       "      <td>tt4073952</td>\n",
       "      <td>0.126594</td>\n",
       "      <td>0</td>\n",
       "      <td>0</td>\n",
       "      <td>Iliza Shlesinger: Freezing Hot</td>\n",
       "      <td>Iliza Shlesinger</td>\n",
       "      <td>http://www.iliza.com/freezing-hot.html</td>\n",
       "      <td>NaN</td>\n",
       "      <td>NaN</td>\n",
       "      <td>...</td>\n",
       "      <td>0.0</td>\n",
       "      <td>0.0</td>\n",
       "      <td>Good</td>\n",
       "      <td>Short</td>\n",
       "      <td>NaN</td>\n",
       "      <td>NaN</td>\n",
       "      <td>NaN</td>\n",
       "      <td>Unknown</td>\n",
       "      <td>1</td>\n",
       "      <td>Unpopular</td>\n",
       "    </tr>\n",
       "  </tbody>\n",
       "</table>\n",
       "<p>5 rows × 29 columns</p>\n",
       "</div>"
      ],
      "text/plain": [
       "       id    imdb_id  popularity  budget  revenue  \\\n",
       "0  345637  tt4661600    0.422901       0        0   \n",
       "1  321109  tt4393514    0.201696       0        0   \n",
       "2  361671  tt5227516    0.129455       0        0   \n",
       "3  355178  tt4909348    0.157172       0        0   \n",
       "4  320996  tt4073952    0.126594       0        0   \n",
       "\n",
       "                    original_title              cast  \\\n",
       "0              Sanjay's Super Team               NaN   \n",
       "1                      Bitter Lake               NaN   \n",
       "2                            Ellis    Robert De Niro   \n",
       "3  Amy Schumer: Live at the Apollo       Amy Schumer   \n",
       "4   Iliza Shlesinger: Freezing Hot  Iliza Shlesinger   \n",
       "\n",
       "                                            homepage      director  \\\n",
       "0                                                NaN  Sanjay Patel   \n",
       "1                                                NaN   Adam Curtis   \n",
       "2                                  http://jr-art.net            JR   \n",
       "3  http://www.hbo.com/comedy/amy-schumer-live-fro...    Chris Rock   \n",
       "4             http://www.iliza.com/freezing-hot.html           NaN   \n",
       "\n",
       "        tagline        ...        budget_adj revenue_adj     Rating  \\\n",
       "0           NaN        ...               0.0         0.0  Excellent   \n",
       "1           NaN        ...               0.0         0.0  Excellent   \n",
       "2           NaN        ...               0.0         0.0  Excellent   \n",
       "3  She's a lady        ...               0.0         0.0  Excellent   \n",
       "4           NaN        ...               0.0         0.0       Good   \n",
       "\n",
       "  Movie_Length budget_adj_bucket budget_bucket  revenue_adj_bucket  \\\n",
       "0        Short               NaN           NaN                 NaN   \n",
       "1    Very_Long               NaN           NaN                 NaN   \n",
       "2        Short               NaN           NaN                 NaN   \n",
       "3        Short               NaN           NaN                 NaN   \n",
       "4        Short               NaN           NaN                 NaN   \n",
       "\n",
       "   Rev_Performance  Actor_Occurrences  Actor_Popularity  \n",
       "0          Unknown                  0               NaN  \n",
       "1          Unknown                  0               NaN  \n",
       "2          Unknown                348              Star  \n",
       "3          Unknown                  5         Unpopular  \n",
       "4          Unknown                  1         Unpopular  \n",
       "\n",
       "[5 rows x 29 columns]"
      ]
     },
     "execution_count": 27,
     "metadata": {},
     "output_type": "execute_result"
    }
   ],
   "source": [
    "df_updated = pd.read_csv('Datasets/data_updated.csv')\n",
    "df_updated.head()\n"
   ]
  },
  {
   "cell_type": "markdown",
   "metadata": {},
   "source": [
    "<a id='eda'></a>\n",
    "## Exploratory Data Analysis\n",
    "\n",
    "### Research Question 1: Do movies that have the most popular cast members have higher voter ratings?\n",
    "### In the graphs to come, I'll create a list to define the order of the x-axis as well as what values to include in the x-axis when I get to the dollar numbers that are missing values. For the relationship between voter ratings and popularity, we will see that there doesn't seem to be a clear relationship between popular actors and movie rating."
   ]
  },
  {
   "cell_type": "code",
   "execution_count": 28,
   "metadata": {},
   "outputs": [
    {
     "data": {
      "image/png": "[encoded data removed]",
      "text/plain": [
       "<matplotlib.figure.Figure at 0x2925993c470>"
      ]
     },
     "metadata": {},
     "output_type": "display_data"
    }
   ],
   "source": [
    "#ind = df_updated['Actor_Popularity'].value_counts().index\n",
    "ind = ['Unpopular', 'Average', 'Popular', 'Star']\n",
    "df_updated['Actor_Popularity'].value_counts()[ind].plot(kind='bar', figsize=(8, 8))\n",
    "plt.title(\"Distribution of Popularity\")\n",
    "plt.xlabel(\"Popularity\")\n",
    "plt.ylabel(\"Volume\");\n"
   ]
  },
  {
   "cell_type": "code",
   "execution_count": 29,
   "metadata": {},
   "outputs": [
    {
     "data": {
      "image/png": "[encoded data removed]",
      "text/plain": [
       "<matplotlib.figure.Figure at 0x2925294b780>"
      ]
     },
     "metadata": {},
     "output_type": "display_data"
    }
   ],
   "source": [
    "df_updated.groupby('Actor_Popularity')['vote_average'].agg('mean')[ind].plot(kind='bar', figsize=(8, 8))\n",
    "plt.title(\"Average Movie Rating by Popularity\")\n",
    "plt.xlabel(\"Popularity\")\n",
    "plt.ylabel(\"Average Rating\");"
   ]
  },
  {
   "cell_type": "markdown",
   "metadata": {},
   "source": [
    "# We can see that actor popularity has very little impact on voter rating above"
   ]
  },
  {
   "cell_type": "markdown",
   "metadata": {},
   "source": [
    "# How does actor popularity impact revenue?  When excluding movies without revenue in our filter, we can see below, the popularity of the actor does seem to be positively correlated with movie revenue"
   ]
  },
  {
   "cell_type": "code",
   "execution_count": 31,
   "metadata": {},
   "outputs": [
    {
     "data": {
      "image/png": "[encoded data removed]",
      "text/plain": [
       "<matplotlib.figure.Figure at 0x292538fa198>"
      ]
     },
     "metadata": {},
     "output_type": "display_data"
    }
   ],
   "source": [
    "df_updated[df_updated['revenue_adj']>0].groupby('Actor_Popularity')['revenue_adj'].agg('mean')[ind].plot(kind='bar', figsize=(8, 8))\n",
    "\n",
    "plt.title(\"Average Movie Revenue of Actor Popularity\")\n",
    "plt.xlabel(\"Popularity\")\n",
    "plt.ylabel(\"Average Revenue\");"
   ]
  },
  {
   "cell_type": "markdown",
   "metadata": {},
   "source": [
    "# What is the distribution of genres?  Do certain genres occur more frequently in the movie database? (1-D)"
   ]
  },
  {
   "cell_type": "code",
   "execution_count": 32,
   "metadata": {},
   "outputs": [
    {
     "data": {
      "image/png": "[encoded data removed]",
      "text/plain": [
       "<matplotlib.figure.Figure at 0x29253954be0>"
      ]
     },
     "metadata": {},
     "output_type": "display_data"
    }
   ],
   "source": [
    "ind2 = df_updated['genres'].value_counts().index.sort_values()\n",
    "df_updated['genres'].value_counts()[ind2].plot(kind='bar', figsize=(8, 8))\n",
    "plt.title(\"Distribution of genres\")\n",
    "plt.xlabel(\"Genre\")\n",
    "plt.ylabel(\"Volume\");\n"
   ]
  },
  {
   "cell_type": "markdown",
   "metadata": {},
   "source": [
    "# Drama is by far the most popular genre, followed by comedy, thriller and action"
   ]
  },
  {
   "cell_type": "markdown",
   "metadata": {},
   "source": [
    "# How does the genre impact the rating?  We can't seem to see a clear impact below"
   ]
  },
  {
   "cell_type": "code",
   "execution_count": 34,
   "metadata": {},
   "outputs": [
    {
     "data": {
      "image/png": "[encoded data removed]",
      "text/plain": [
       "<matplotlib.figure.Figure at 0x29253e131d0>"
      ]
     },
     "metadata": {},
     "output_type": "display_data"
    }
   ],
   "source": [
    "df_updated.groupby('genres')['vote_average'].agg('mean')[ind2].plot(kind='bar', figsize=(8, 8))\n",
    "plt.title(\"Average Rating by Genre\")\n",
    "plt.xlabel(\"Genre\")\n",
    "plt.ylabel(\"Average Rating\");"
   ]
  },
  {
   "cell_type": "markdown",
   "metadata": {},
   "source": [
    "# Does runtime have an impact on rating?  Interestingly, we do see a slight improvement of rating as movie length increases, though we don't know if this is statistically significant.  The scatter plot doesn't show clear trends"
   ]
  },
  {
   "cell_type": "code",
   "execution_count": 35,
   "metadata": {},
   "outputs": [
    {
     "data": {
      "image/png": "[encoded data removed]",
      "text/plain": [
       "<matplotlib.figure.Figure at 0x292541414a8>"
      ]
     },
     "metadata": {},
     "output_type": "display_data"
    }
   ],
   "source": [
    "ind3 = ['Short', 'Average', 'Long', 'Very_Long']\n",
    "df_updated['Movie_Length'].value_counts()[ind3].plot(kind='bar', figsize=(8, 8))\n",
    "plt.title(\"Distribution of movie length\")\n",
    "plt.xlabel(\"Length\")\n",
    "plt.ylabel(\"Volume\");\n"
   ]
  },
  {
   "cell_type": "code",
   "execution_count": 36,
   "metadata": {},
   "outputs": [
    {
     "data": {
      "image/png": "[encoded data removed]",
      "text/plain": [
       "<matplotlib.figure.Figure at 0x29254157a58>"
      ]
     },
     "metadata": {},
     "output_type": "display_data"
    }
   ],
   "source": [
    "df_updated.groupby('Movie_Length')['vote_average'].agg('mean')[ind3].plot(kind='bar', figsize=(8, 8))\n",
    "plt.title(\"Average Rating by Length\")\n",
    "plt.xlabel(\"Length\")\n",
    "plt.ylabel(\"Average Rating\");"
   ]
  },
  {
   "cell_type": "code",
   "execution_count": 37,
   "metadata": {},
   "outputs": [
    {
     "data": {
      "image/png": "[encoded data removed]",
      "text/plain": [
       "<matplotlib.figure.Figure at 0x292541810f0>"
      ]
     },
     "metadata": {},
     "output_type": "display_data"
    }
   ],
   "source": [
    "df_updated[df_updated['Movie_Length'] != 'Very_Long'].plot(x='runtime', y='vote_average', kind='scatter', figsize=(16,16));"
   ]
  },
  {
   "cell_type": "markdown",
   "metadata": {},
   "source": [
    "# Does movie length have an impact on revenue?  You'll notice that non-revenue generating movies are excluded below.  Interestingly, movie length seems to have an impact on revenue"
   ]
  },
  {
   "cell_type": "code",
   "execution_count": 39,
   "metadata": {},
   "outputs": [
    {
     "data": {
      "image/png": "[encoded data removed]",
      "text/plain": [
       "<matplotlib.figure.Figure at 0x29253e89550>"
      ]
     },
     "metadata": {},
     "output_type": "display_data"
    }
   ],
   "source": [
    "df_updated[df_updated['revenue_adj']>0].groupby('Movie_Length')['revenue_adj'].agg('mean')[ind3].plot(kind='bar', figsize=(8, 8))\n",
    "\n",
    "plt.title(\"Average Movie Revenue By Length\")\n",
    "plt.xlabel(\"Length\")\n",
    "plt.ylabel(\"Average Revenue\");"
   ]
  },
  {
   "cell_type": "markdown",
   "metadata": {},
   "source": [
    "### Do higher budgets have higher movie ratings?  Please note the bins selected below don't include nan, thus the movies with no budget are not included in the chart below. It doesn't seem so, see below (note the first graph is just the distribution, the second graph is the 2-d graph that the statement is based on"
   ]
  },
  {
   "cell_type": "code",
   "execution_count": 43,
   "metadata": {
    "collapsed": true
   },
   "outputs": [
    {
     "data": {
      "image/png": "[encoded data removed]",
      "text/plain": [
       "<matplotlib.figure.Figure at 0x292543bb518>"
      ]
     },
     "metadata": {},
     "output_type": "display_data"
    }
   ],
   "source": [
    "ind4 = ['Cheap', 'Average', 'Expensive', 'Crazy_Expensive']\n",
    "df_updated['budget_bucket'].value_counts()[ind4].plot(kind='bar', figsize=(8, 8))\n",
    "plt.title(\"Distribution of movie budget\")\n",
    "plt.xlabel(\"Budget\")\n",
    "plt.ylabel(\"Volume\");"
   ]
  },
  {
   "cell_type": "code",
   "execution_count": 44,
   "metadata": {},
   "outputs": [
    {
     "data": {
      "image/png": "[encoded data removed]",
      "text/plain": [
       "<matplotlib.figure.Figure at 0x29253994cc0>"
      ]
     },
     "metadata": {},
     "output_type": "display_data"
    }
   ],
   "source": [
    "df_updated.groupby('budget_bucket')['vote_average'].agg('mean')[ind4].plot(kind='bar', figsize=(8, 8))\n",
    "\n",
    "plt.title(\"Average Vote Score by Budget\")\n",
    "plt.xlabel(\"Budget\")\n",
    "plt.ylabel(\"Average Score\");"
   ]
  },
  {
   "cell_type": "markdown",
   "metadata": {},
   "source": [
    "# Do higher budgets generate more revenue?  It seems so (please note the indices used exclude nan, thus this is only including values that have revenue >0)"
   ]
  },
  {
   "cell_type": "code",
   "execution_count": 45,
   "metadata": {},
   "outputs": [
    {
     "data": {
      "image/png": "[encoded data removed]",
      "text/plain": [
       "<matplotlib.figure.Figure at 0x29253966390>"
      ]
     },
     "metadata": {},
     "output_type": "display_data"
    }
   ],
   "source": [
    "df_updated.groupby('budget_bucket')['revenue'].agg('mean')[ind4].plot(kind='bar', figsize=(8, 8))\n",
    "\n",
    "plt.title(\"Average Revenue by Budget\")\n",
    "plt.xlabel(\"Budget\")\n",
    "plt.ylabel(\"Average Revenue\");"
   ]
  },
  {
   "cell_type": "markdown",
   "metadata": {},
   "source": [
    "# How is the distribution of release dates look like in this dataset?  We can see that significantly more movies after 2000 make up the dataset rather than before, despite having the release years go all the way back to 1960"
   ]
  },
  {
   "cell_type": "code",
   "execution_count": 48,
   "metadata": {},
   "outputs": [
    {
     "data": {
      "image/png": "[encoded data removed]",
      "text/plain": [
       "<matplotlib.figure.Figure at 0x29253892128>"
      ]
     },
     "metadata": {},
     "output_type": "display_data"
    }
   ],
   "source": [
    "ind11 = df_updated['release_year'].value_counts().index.sort_values()\n",
    "df_updated['release_year'].value_counts()[ind11].plot(kind='bar', figsize=(16, 8))\n",
    "plt.title(\"Distribution of release year\")\n",
    "plt.xlabel(\"Year\")\n",
    "plt.ylabel(\"Volume\");"
   ]
  },
  {
   "cell_type": "markdown",
   "metadata": {},
   "source": [
    "# How has average rating trended over time?"
   ]
  },
  {
   "cell_type": "code",
   "execution_count": 51,
   "metadata": {},
   "outputs": [
    {
     "data": {
      "image/png": "[encoded data removed]",
      "text/plain": [
       "<matplotlib.figure.Figure at 0x29253d31550>"
      ]
     },
     "metadata": {},
     "output_type": "display_data"
    }
   ],
   "source": [
    "df_updated.groupby('release_year')['vote_average'].agg('mean')[ind11].plot(kind='bar', figsize=(16, 8))\n",
    "\n",
    "plt.title(\"Average Vote Score by Release Year\")\n",
    "plt.xlabel(\"Release Year\")\n",
    "plt.ylabel(\"Average Score\");"
   ]
  },
  {
   "cell_type": "markdown",
   "metadata": {},
   "source": [
    "# There does seem to be a slight degrade in rating over time"
   ]
  },
  {
   "cell_type": "markdown",
   "metadata": {},
   "source": [
    "<a id='conclusions'></a>\n",
    "## Conclusions\n"
   ]
  },
  {
   "cell_type": "markdown",
   "metadata": {},
   "source": [
    "### Based on my preliminary charts, I do not see strong evidence that actor popularity impacts movie rating, however, based on my preliminary bar charts, I do see that revenue tends to be higher with high profile actors.  I did not observe any correlation between genres and movie rating or movie revenue.  Regarding movie length, while I do see higher average ratings for longer movies, I don't have any insight into the statistical signficance of this.  Furthermore, looking at a scatter plot, I do not see a clear pattern.  I also see evidence that long movies generate more revenue, but it would be good to see if this is statistically significant.  We did have some limitations, the largest seemed to be missing significant revenue and budget data.  It would be interesting to see if our revenue analysis would be impacted with more data.  Furthremore, recent years over represent our data.  It would be interesting to see how much our analysis would change with each year being equally represented in the data.  For example, rating might be impacted over time."
   ]
  },
  {
   "cell_type": "code",
   "execution_count": null,
   "metadata": {},
   "outputs": [],
   "source": []
  }
 ],
 "metadata": {
  "kernelspec": {
   "display_name": "Python 3",
   "language": "python",
   "name": "python3"
  },
  "language_info": {
   "codemirror_mode": {
    "name": "ipython",
    "version": 3
   },
   "file_extension": ".py",
   "mimetype": "text/x-python",
   "name": "python",
   "nbconvert_exporter": "python",
   "pygments_lexer": "ipython3",
   "version": "3.6.4"
  }
 },
 "nbformat": 4,
 "nbformat_minor": 2
}
